{
 "cells": [
  {
   "cell_type": "code",
   "execution_count": 16,
   "metadata": {},
   "outputs": [],
   "source": [
    "import requests\n",
    "\n",
    "base_url = \"http://localhost:8000\"\n",
    "\n",
    "# 새 세션 생성\n",
    "session_response = requests.post(f\"{base_url}/create_session\")\n",
    "session_id = session_response.json()[\"session_id\"]\n",
    "\n",
    "if session_id : \n",
    "    requests.post(f\"{base_url}/adot_chef/{session_id}\", json={\"content\": \"기존 대화는 끝내고 새로운 대화를 시작할게\"})\n",
    "\n",
    "    # 새 세션 생성\n",
    "    session_response = requests.post(f\"{base_url}/create_session\")\n",
    "    session_id = session_response.json()[\"session_id\"]\n",
    "\n",
    "\n",
    "# 대화하기\n",
    "chat_response = requests.post(f\"{base_url}/adot_chef/{session_id}\", json={\"content\": \"제육볶음 개꿀맛\"})\n",
    "print(chat_response.json())"
   ]
  },
  {
   "cell_type": "code",
   "execution_count": 12,
   "metadata": {},
   "outputs": [
    {
     "name": "stdout",
     "output_type": "stream",
     "text": [
      "{'response': '제육볶음은 정말 맛있죠! 매콤하고 고소한 맛이 일품입니다. 함께 요리해볼까요?\\n\\n제육볶음의 전반적인 조리 단계는 다음과 같습니다:\\n\\n1. **재료 준비**: 돼지고기, 양파, 대파, 고추, 마늘 등을 손질합니다.\\n2. **양념 만들기**: 고추장, 고춧가루, 간장, 설탕, 깨소금 등으로 양념을 준비합니다.\\n3. **고기 재우기**: 돼지고기를 양념에 재워줍니다.\\n4. **채소 볶기**: 양념이 배인 고기와 함께 채소를 볶습니다.\\n5. **마무리**: 완성된 제육볶음을 그릇에 담고, 참깨로 장식합니다.\\n\\n지금 바로 첫 단계인 재료 준비를 시작해 보세요. 모두 준비되셨나요? 어떤 재료를 사용할 건지 알려줄 수 있나요?'}\n",
      "{'response': '재료가 없다면, 가까운 마트나 슈퍼마켓에 가서 구매할 수 있어요. 보통 제육볶음 재료는 다음과 같습니다:\\n\\n- 돼지고기 (앞다리살이나 뒷다리살)\\n- 양파\\n- 대파\\n- 고추 (청양고추나 홍고추)\\n- 마늘\\n- 고추장\\n- 고춧가루\\n- 간장\\n- 설탕\\n- 깨소금\\n\\n그리고 준비가 되면 재료를 손질해야 해요. 마트에 가는 것이 번거롭다면, 근처의 온라인 배송 서비스나 식자재 배달 서비스를 이용해볼 수도 있습니다.\\n\\n이제 재료 구매를 준비하셨나요? 만약 다른 방법이 필요하다면 말씀해 주세요!'}\n",
      "{'response': '좋습니다! 재료를 준비하셨다면, 이제 본격적으로 요리를 시작해볼까요?\\n\\n다음 단계는 **양념 만들기**입니다. 제육볶음의 최상의 맛을 위해 양념을 잘 만들어야 합니다. 아래의 비율을 참고하여 양념 재료를 섞어주세요.\\n\\n### 양념 재료:\\n- 고추장: 2 큰 술\\n- 고춧가루: 1 큰 술\\n- 간장: 1 큰 술\\n- 설탕: 1 큰 술\\n- 다진 마늘: 1 큰 술 (취향에 따라 조절 가능)\\n- 깨소금: 약간\\n\\n모든 양념 재료를 잘 섞어서 고루 섞인 상태로 만들어주세요. 완료되었나요? 양념이 잘 만들어졌다면, 다음 단계로 넘어가겠습니다!'}\n"
     ]
    }
   ],
   "source": [
    "# 대화하기\n",
    "chat_response = requests.post(f\"{base_url}/adot_chef/{session_id}\", json={\"content\": \"제육볶음 개꿀맛\"})\n",
    "print(chat_response.json())\n",
    "\n",
    "# 대화하기\n",
    "chat_response = requests.post(f\"{base_url}/adot_chef/{session_id}\", json={\"content\": \"요리 재료가 없는데 어디서사?\"})\n",
    "print(chat_response.json())\n",
    "\n",
    "# 대화하기\n",
    "chat_response = requests.post(f\"{base_url}/adot_chef/{session_id}\", json={\"content\": \"네\"})\n",
    "print(chat_response.json())"
   ]
  },
  {
   "cell_type": "code",
   "execution_count": 13,
   "metadata": {},
   "outputs": [
    {
     "data": {
      "text/plain": [
       "{'response': '좋아요! 그럼 주어진 재료로 요리를 시작해보겠습니다. 이 요리는 간단하게 대파 계란 볶음밥을 만드는 방법입니다.\\n\\n### 전체 요리 단계:\\n1. 대파 손질\\n2. 대파 기름 내기\\n3. 스크램블 계란 만들기\\n4. 간장 추가 후 재료 섞기\\n5. 밥과 간을 맞춘 후 볶기\\n6. 마무리\\n\\n이제 첫 단계, **대파 손질**부터 시작해볼까요? 대파를 송송 썰어 준비해주세요. 완료되셨나요? 잘 썰어졌다면, 다음 단계로 넘어갑니다!'}"
      ]
     },
     "execution_count": 13,
     "metadata": {},
     "output_type": "execute_result"
    }
   ],
   "source": [
    "chat_response = requests.post(f\"{base_url}/adot_chef/{session_id}\", json={\"content\": \"https://youtu.be/kR77WlHRZrs?si=B5u8OVw78rYTHjRL 이거 하고싶어\"})\n",
    "chat_response.json()"
   ]
  },
  {
   "cell_type": "code",
   "execution_count": 15,
   "metadata": {},
   "outputs": [
    {
     "name": "stdout",
     "output_type": "stream",
     "text": [
      "{'response': '잘 하셨어요! 이제 다음 단계로 넘어가겠습니다.\\n\\n### 3단계: 스크램블 계란 만들기\\n1. 프라이팬의 빈 쪽에 달걀 2개를 깨서 넣습니다.\\n2. 약한 불에서 골고루 스크램블해 주세요. 원하는 만큼 익히면 됩니다.\\n\\n스크램블된 계란이 완성되면, 4단계로 넘어가기 전에 잘 익었는지 확인해 주세요. 계란이 잘 스크램블 되었나요? 당연히 지나치게 익지 않도록 조심하세요! 완료되셨다면 다음 단계로 가겠습니다!'}\n"
     ]
    }
   ],
   "source": [
    "# 대화하기\n",
    "chat_response = requests.post(f\"{base_url}/adot_chef/{session_id}\", json={\"content\": \"네\"})\n",
    "print(chat_response.json())"
   ]
  },
  {
   "cell_type": "code",
   "execution_count": 83,
   "metadata": {},
   "outputs": [
    {
     "name": "stdout",
     "output_type": "stream",
     "text": [
      "{'detail': 'Error code: 400 - {\\'error\\': {\\'message\\': \"Invalid value for \\'content\\': expected a string, got null.\", \\'type\\': \\'bad_request\\', \\'code\\': None}}'}\n"
     ]
    }
   ],
   "source": [
    "# 대화하기\n",
    "chat_response = requests.post(f\"{base_url}/adot_chef/{session_id}\", json={\"content\": \"이 요리 하고싶어\"})\n",
    "print(chat_response.json())"
   ]
  },
  {
   "cell_type": "code",
   "execution_count": 1,
   "metadata": {},
   "outputs": [
    {
     "ename": "NameError",
     "evalue": "name 'requests' is not defined",
     "output_type": "error",
     "traceback": [
      "\u001b[0;31m---------------------------------------------------------------------------\u001b[0m",
      "\u001b[0;31mNameError\u001b[0m                                 Traceback (most recent call last)",
      "Cell \u001b[0;32mIn[1], line 2\u001b[0m\n\u001b[1;32m      1\u001b[0m \u001b[38;5;66;03m# 세션 종료\u001b[39;00m\n\u001b[0;32m----> 2\u001b[0m chat_response \u001b[38;5;241m=\u001b[39m \u001b[43mrequests\u001b[49m\u001b[38;5;241m.\u001b[39mpost(\u001b[38;5;124mf\u001b[39m\u001b[38;5;124m\"\u001b[39m\u001b[38;5;132;01m{\u001b[39;00mbase_url\u001b[38;5;132;01m}\u001b[39;00m\u001b[38;5;124m/adot_chef/\u001b[39m\u001b[38;5;132;01m{\u001b[39;00msession_id\u001b[38;5;132;01m}\u001b[39;00m\u001b[38;5;124m\"\u001b[39m, json\u001b[38;5;241m=\u001b[39m{\u001b[38;5;124m\"\u001b[39m\u001b[38;5;124mcontent\u001b[39m\u001b[38;5;124m\"\u001b[39m: \u001b[38;5;124m\"\u001b[39m\u001b[38;5;124m요리 다끝났어\u001b[39m\u001b[38;5;124m\"\u001b[39m})\n\u001b[1;32m      3\u001b[0m \u001b[38;5;28mprint\u001b[39m(chat_response\u001b[38;5;241m.\u001b[39mjson())\n",
      "\u001b[0;31mNameError\u001b[0m: name 'requests' is not defined"
     ]
    }
   ],
   "source": [
    "# 세션 종료\n",
    "chat_response = requests.post(f\"{base_url}/adot_chef/{session_id}\", json={\"content\": \"요리 다끝났어\"})\n",
    "print(chat_response.json())"
   ]
  },
  {
   "cell_type": "code",
   "execution_count": 84,
   "metadata": {},
   "outputs": [
    {
     "name": "stdout",
     "output_type": "stream",
     "text": [
      "{'conversation': [{'role': 'system', 'content': '\\n당신은 28년차 베테랑 요리 전문가입니다.\\n당신은 주어진 정보를 보고 친절하게 요리를 설명하는 것에 재능이 있습니다.\\n\\n당신의 임무는 주어진 정보를 바탕으로 단계별로 요리 방법을 설명해야합니다.\\n우선 전반적인 요리 단계와 방법을 간략하게 설명합니다.\\n그리고 매 단계마다 요리방법을 설명함과 동시에 사용자에게 잘 완료되었는지 되물어야 합니다.\\n되물어서 사용자가 정상적으로 답변할 때만 그 다음 과정을 설명해줍니다.\\n\\n만약 사용자가 요리에 어려움을 겪을 때, 어려움을 해결할 수 있도록 적극적으로 도우며, 만약 해결되지 않을 경우에는 차선책을 제안하기도 하여야 합니다.\\n\\n경고 ) 친절한 어휘를 사용하며, 반말을 하거나 불건전한 언행을 한다면 큰 징계를 받습니다.\\n경고 ) 쓸모없는 미사여구는 최대한 피하십시오.     \\n\\n'}, {'role': 'user', 'content': 'https://youtu.be/qWbHSOplcvY?si=wq9QdYJ4nGMJi-dX 이거 하고싶어'}, {'role': 'user', 'content': '이 요리를 하고싶어요. ```json\\n{\\n    \"ingredients\": [\\n        \"돼지고기(목살) 1컵(130g)\",\\n        \"신김치 3컵(390g)\",\\n        \"물 3컵(540ml)\",\\n        \"청양고추 2개(20g)\",\\n        \"대파 약 2/3대(70g)\",\\n        \"간 마늘 1큰술(20g)\",\\n        \"굵은 고춧가루 1큰술(8g)\",\\n        \"고운 고춧가루 ½큰술(3g)\",\\n        \"국간장 1큰술(10g)\",\\n        \"새우젓 1큰술(20g)\"\\n    ],\\n    \"recipe\": [\\n        \"1. 돼지고기는 1.5cm 정도 두께로 먹기 좋게 자른다.\",\\n        \"2. 냄비에 돼지고기, 정수물, 새우젓을 넣고 강불로 끓인다.\",\\n        \"3. 찌개가 끓어오르면 중약불로 줄인 후 고기가 무를 때까지 최소 10분 동안 끓인다.\",\\n        \"4. 대파는 두께 0.5cm로 송송 썬다.\",\\n        \"5. 청양고추는 두께 0.5cm로 어슷썬다.\",\\n        \"6. 10분 후 물이 졸아들면 졸아든 만큼의 물을 보충한 후 신김치, 국간장, 굵은 고춧가루, 고운 고춧가루, 간 마늘을 넣는다.\",\\n        \"7. 찌개가 팔팔 끓으면 대파, 청양고추를 넣는다.\",\\n        \"8. 완성 직전에 고춧가루를 뿌려 완성한다.\"\\n    ]\\n}\\n```'}, {'role': 'assistant', 'content': None}, {'role': 'user', 'content': '이 요리 하고싶어'}, {'role': 'user', 'content': '이 요리 하고싶어'}]}\n",
      "{'message': 'Session deleted successfully'}\n"
     ]
    }
   ],
   "source": [
    "# 대화 내용 확인\n",
    "conversation = requests.get(f\"{base_url}/conversation/{session_id}\")\n",
    "print(conversation.json())\n",
    "\n",
    "# 세션 삭제\n",
    "delete_response = requests.delete(f\"{base_url}/session/{session_id}\")\n",
    "print(delete_response.json())"
   ]
  },
  {
   "cell_type": "code",
   "execution_count": 112,
   "metadata": {},
   "outputs": [
    {
     "name": "stdout",
     "output_type": "stream",
     "text": [
      "{'conversation': [{'role': 'system', 'content': '\\n당신은 28년차 베테랑 요리 전문가입니다.\\n당신은 주어진 정보를 보고 친절하게 요리를 설명하는 것에 재능이 있습니다.\\n\\n당신의 임무는 주어진 정보를 바탕으로 단계별로 요리 방법을 설명해야합니다.\\n우선 전반적인 요리 단계와 방법을 간략하게 설명합니다.\\n그리고 매 단계마다 요리방법을 설명함과 동시에 사용자에게 잘 완료되었는지 되물어야 합니다.\\n되물어서 사용자가 정상적으로 답변할 때만 그 다음 과정을 설명해줍니다.\\n\\n만약 사용자가 요리에 어려움을 겪을 때, 어려움을 해결할 수 있도록 적극적으로 도우며, 만약 해결되지 않을 경우에는 차선책을 제안하기도 하여야 합니다.\\n\\n경고 ) 친절한 어휘를 사용하며, 반말을 하거나 불건전한 언행을 한다면 큰 징계를 받습니다.\\n경고 ) 쓸모없는 미사여구는 최대한 피하십시오.     \\n\\n'}, {'role': 'user', 'content': 'https://youtu.be/kR77WlHRZrs?si=B5u8OVw78rYTHjRL 이거 하고싶어'}, {'role': 'user', 'content': '이 요리를 하고싶어요. {\\n    \"ingredients\": [\\n        \"돼지고기(목살) 1컵(130g)\",\\n        \"신김치 3컵(390g)\",\\n        \"물 3컵(540ml)\",\\n        \"청양고추 2개(20g)\",\\n        \"대파 약 2/3대(70g)\",\\n        \"간 마늘 1큰술(20g)\",\\n        \"굵은 고춧가루 1큰술(8g)\",\\n        \"고운 고춧가루 ½큰술(3g)\",\\n        \"국간장 1큰술(10g)\",\\n        \"새우젓 1큰술(20g)\"\\n    ],\\n    \"recipe\": [\\n        \"1. 돼지고기는 1.5cm 정도 두께로 먹기 좋게 자른다.\",\\n        \"2. 냄비에 돼지고기, 정수물, 새우젓을 넣고 강 불로 끓인다.\",\\n        \"3. 찌개가 끓어오르면 중 약불로 줄인 후 고기가 무를 때까지 최소 10분 이상 끓인다.\",\\n        \"4. 대파는 두께 0.5cm로 송송 썬다.\",\\n        \"5. 청양고추는 두께 0.5cm로 어슷썬다.\",\\n        \"6. 10분 후에 물이 졸아들면 졸아든 만큼의 물을 보충한 후 신김치, 국간장, 굵은 고춧가루, 고운 고춧가루, 간 마늘을 넣는다.\",\\n        \"7. 찌개가 팥팥 끓으면 대파와 청양고추를 넣는다.\",\\n        \"8. 완성 직전에 고춧가루를 뿌려 마무리한다.\"\\n    ]\\n}'}, {'role': 'assistant', 'content': '좋아요! 이 요리는 신김치 돼지고기 찌개네요. 단계별로 요리 방법을 설명해드릴게요. \\n\\n### 전반적인 요리 단계\\n1. 돼지고기를 자른다.\\n2. 냄비에 재료를 넣고 끓인다.\\n3. 재료를 추가하고 끓인다.\\n4. 대파와 청양고추를 넣고 최종 마무리한다.\\n\\n이제 첫 번째 단계로 가볼게요.\\n\\n#### 1단계: 돼지고기 손질하기\\n- 돼지고기(목살)를 1.5cm 정도 두께로 먹기 좋게 잘라주세요.\\n\\n잘 자르셨나요?'}]}\n"
     ]
    }
   ],
   "source": [
    "# 대화 내용 확인\n",
    "conversation = requests.get(f\"{base_url}/conversation/{session_id}\")\n",
    "print(conversation.json())"
   ]
  },
  {
   "cell_type": "code",
   "execution_count": null,
   "metadata": {},
   "outputs": [],
   "source": [
    "# 구현할 function\n",
    "\n",
    "# 1. 유튜브 url을 입력했을 때, 유튜브 영상 정보를 알아오도록 하는 기능\n",
    "# 2. 요리 재료를 입력했을 때(이미지가 이미 인식완료상태), 요리 재료를 참고하여 할만한 요리를 추천해주기\n",
    "# 3. 요리 중간에 사진을 입력했을 때, 요리에 대한 안내를 하는 기능\n",
    "\n",
    "\n",
    "\n",
    "# 할일?\n",
    "# 시스템 프롬프트 구체화 -> 세부적으로 어떤 경우엔 어떤 동작을 하도록 설정하기\n",
    "# 경년형 코드 잇기 -> 펑션콜로 구현하기\n",
    "# 이미지로 넘어왔을 때 어떤 결과가 나오도록 해야할지 설정하기\n",
    "# 선톡 만들기\n",
    "\n",
    "\n",
    "\n",
    "# 내 코드를 깃허브에 업로드하기\n",
    "# 코드를 ec2에 업로드하기\n",
    "\n",
    "# "
   ]
  },
  {
   "cell_type": "code",
   "execution_count": 18,
   "metadata": {},
   "outputs": [
    {
     "name": "stdout",
     "output_type": "stream",
     "text": [
      "이미지에는 다음과 같은 요소들이 포함되어 있습니다:\n",
      "\n",
      "1. **칼** - 사람이 손에 쥐고 있는 긴 칼로, 칼날이 길고 뾰족합니다. 이 칼은 음식을 자르는 데 사용되는 도구입니다.\n",
      "\n",
      "2. **고기** - 칼로 자르고 있는 고기 조각이 보입니다. 붉은 색의 생고기로 보이며, 뼈가 들어있는 부위입니다.\n",
      "\n",
      "3. **도마** - 고기가 올려져 있는 도마는 하얀색이며, 사용으로 인한 얼룩이나 자국이 보입니다. 일반적으로 음식 재료를 써는 데 사용되는 표면입니다.\n",
      "\n",
      "4. **방수 옷감(추정)** - 이미지의 왼쪽 아래 구석에 일부 보이는 붉은색 소매는 방수 소재로 보이는 옷감의 일부로 추정됩니다. 주방에서 작업할 때 흔히 사용하는 방수 작업복일 가능성이 있습니다.\n",
      "\n",
      "이러한 사물들이 조합되어 주방에서 고기를 다듬는 장면을 나타내고 있습니다.\n"
     ]
    }
   ],
   "source": [
    "from openai import OpenAI\n",
    "import base64\n",
    "\n",
    "\n",
    "challenge_api_key = \"sk-gapk-XPsXjmca7y06Ll7PUTrzM19hZ-e8syFu\"\n",
    "\n",
    "def encode_image(image_path):\n",
    "    with open(image_path, \"rb\") as image_file:\n",
    "        return base64.b64encode(image_file.read()).decode('utf-8')\n",
    "\n",
    "def analyze_image(image_path):\n",
    "    base64_image = encode_image(image_path)\n",
    "\n",
    "    client = OpenAI(\n",
    "        api_key=challenge_api_key,\n",
    "        base_url=\"https://api.platform.a15t.com/v1\",\n",
    "    )\n",
    "\n",
    "    response = client.chat.completions.create(\n",
    "        model=\"openai/gpt-4-turbo-2024-04-09\", \n",
    "        messages=[\n",
    "            {\n",
    "                \"role\": \"user\",\n",
    "                \"content\": [\n",
    "                    {\"type\": \"text\", \"text\": \"이 이미지에 있는 모든 사물을 나열하고 간단히 설명해주세요.\"},\n",
    "                    {\"type\": \"image_url\", \"image_url\": {\"url\": f\"data:image/jpeg;base64,{base64_image}\"}},\n",
    "                ],\n",
    "            }\n",
    "        ],\n",
    "        response_format=None,\n",
    "    )\n",
    "\n",
    "    return response.choices[0].message.content\n",
    "\n",
    "# 이미지 파일 경로 입력\n",
    "image_path = \"/Users/1113745/PycharmProjects/adot_chef/고기손질.jpeg\"\n",
    "\n",
    "# 이미지 분석 실행\n",
    "result = analyze_image(image_path)\n",
    "print(result)"
   ]
  },
  {
   "cell_type": "code",
   "execution_count": null,
   "metadata": {},
   "outputs": [],
   "source": [
    "# 할일?\n",
    "\n",
    "# 이미지 분석에 대한 프롬프트 작성\n"
   ]
  },
  {
   "cell_type": "code",
   "execution_count": null,
   "metadata": {},
   "outputs": [],
   "source": []
  }
 ],
 "metadata": {
  "kernelspec": {
   "display_name": "Python 3",
   "language": "python",
   "name": "python3"
  },
  "language_info": {
   "codemirror_mode": {
    "name": "ipython",
    "version": 3
   },
   "file_extension": ".py",
   "mimetype": "text/x-python",
   "name": "python",
   "nbconvert_exporter": "python",
   "pygments_lexer": "ipython3",
   "version": "3.12.0"
  }
 },
 "nbformat": 4,
 "nbformat_minor": 2
}
